{
  "nbformat": 4,
  "nbformat_minor": 0,
  "metadata": {
    "colab": {
      "provenance": []
    },
    "kernelspec": {
      "name": "python3",
      "display_name": "Python 3"
    },
    "language_info": {
      "name": "python"
    }
  },
  "cells": [
    {
      "cell_type": "markdown",
      "source": [
        " Import Necessary Libraries"
      ],
      "metadata": {
        "id": "BckdfEXEHtg3"
      }
    },
    {
      "cell_type": "code",
      "execution_count": null,
      "metadata": {
        "colab": {
          "base_uri": "https://localhost:8080/"
        },
        "id": "jlrLh3OuHWlp",
        "outputId": "34052340-fd90-4002-c606-e3eaef9d1f7a"
      },
      "outputs": [
        {
          "output_type": "stream",
          "name": "stderr",
          "text": [
            "[nltk_data] Downloading package stopwords to /root/nltk_data...\n",
            "[nltk_data]   Unzipping corpora/stopwords.zip.\n"
          ]
        },
        {
          "output_type": "execute_result",
          "data": {
            "text/plain": [
              "True"
            ]
          },
          "metadata": {},
          "execution_count": 1
        }
      ],
      "source": [
        "# Import libraries\n",
        "import pandas as pd\n",
        "import numpy as np\n",
        "import re\n",
        "import matplotlib.pyplot as plt\n",
        "import seaborn as sns\n",
        "from sklearn.model_selection import train_test_split, GridSearchCV, cross_val_score\n",
        "from sklearn.feature_extraction.text import TfidfVectorizer\n",
        "from sklearn.metrics import classification_report, accuracy_score, confusion_matrix, precision_score, recall_score, f1_score, roc_curve, auc, silhouette_samples, silhouette_score\n",
        "from sklearn.neighbors import KNeighborsClassifier\n",
        "from sklearn.naive_bayes import MultinomialNB\n",
        "from sklearn.svm import SVC\n",
        "from sklearn.cluster import KMeans\n",
        "from nltk.corpus import stopwords\n",
        "from nltk.stem import PorterStemmer\n",
        "import nltk\n",
        "nltk.download('stopwords')"
      ]
    },
    {
      "cell_type": "markdown",
      "source": [
        "Load Data"
      ],
      "metadata": {
        "id": "J0-dDttNH3tP"
      }
    },
    {
      "cell_type": "code",
      "source": [
        "# Load datasets\n",
        "train_df = pd.read_csv('train.csv', delimiter=';')\n",
        "test_df = pd.read_csv('test.csv', delimiter=';')\n",
        "\n",
        "# Display dataset info and sample\n",
        "print(\"Training Data Info:\")\n",
        "print(train_df.info())\n",
        "\n",
        "print(\"\\nSample Data:\")\n",
        "print(train_df.head())\n",
        "\n",
        "print(\"\\nClass Distribution in Training Data:\")\n",
        "print(train_df['label'].value_counts())"
      ],
      "metadata": {
        "colab": {
          "base_uri": "https://localhost:8080/"
        },
        "id": "Z7bG22YiH6a2",
        "outputId": "33e74876-1f55-468b-bba1-6c5f6267d27e"
      },
      "execution_count": null,
      "outputs": [
        {
          "output_type": "stream",
          "name": "stdout",
          "text": [
            "Training Data Info:\n",
            "<class 'pandas.core.frame.DataFrame'>\n",
            "RangeIndex: 3340 entries, 0 to 3339\n",
            "Data columns (total 2 columns):\n",
            " #   Column  Non-Null Count  Dtype \n",
            "---  ------  --------------  ----- \n",
            " 0   text    3340 non-null   object\n",
            " 1   label   3340 non-null   int64 \n",
            "dtypes: int64(1), object(1)\n",
            "memory usage: 52.3+ KB\n",
            "None\n",
            "\n",
            "Sample Data:\n",
            "                                                text  label\n",
            "0  trump tell million american hurricane victim r...      0\n",
            "1  new york cable provider altice acc network new...      0\n",
            "2  japan dentsu get small fine overtime breach de...      1\n",
            "3  little kid toxic stress solve priscilla chan c...      1\n",
            "4  fantasy football kicker ranking week warn some...      0\n",
            "\n",
            "Class Distribution in Training Data:\n",
            "label\n",
            "0    1670\n",
            "1    1670\n",
            "Name: count, dtype: int64\n"
          ]
        }
      ]
    },
    {
      "cell_type": "markdown",
      "source": [
        "Preprocessing"
      ],
      "metadata": {
        "id": "2FQfKrSyH-kj"
      }
    },
    {
      "cell_type": "code",
      "source": [
        "# Text preprocessing function\n",
        "def preprocess_text_advanced(text):\n",
        "    text = text.lower()\n",
        "    text = re.sub(r'http\\S+|www\\S+', '', text)  # Remove URLs\n",
        "    text = re.sub(r'[^a-z\\s]', '', text)  # Remove special characters and numbers\n",
        "    words = text.split()  # Tokenization\n",
        "    words = [word for word in words if word not in stopwords.words('english')]  # Remove stopwords\n",
        "    stemmer = PorterStemmer()  # Stemming\n",
        "    words = [stemmer.stem(word) for word in words]\n",
        "    return ' '.join(words)\n",
        "\n",
        "# Apply preprocessing\n",
        "train_df['text_cleaned'] = train_df['text'].apply(preprocess_text_advanced)\n",
        "test_df['text_cleaned'] = test_df['text'].apply(preprocess_text_advanced)\n",
        "\n",
        "# Display sample cleaned data\n",
        "print(\"\\nSample Preprocessed Data:\")\n",
        "print(train_df[['text', 'text_cleaned']].head())"
      ],
      "metadata": {
        "colab": {
          "base_uri": "https://localhost:8080/"
        },
        "id": "kvcCAoXTIBC5",
        "outputId": "63b11e03-e069-4f92-b5cb-cc0bf1844f31"
      },
      "execution_count": null,
      "outputs": [
        {
          "output_type": "stream",
          "name": "stdout",
          "text": [
            "\n",
            "Sample Preprocessed Data:\n",
            "                                                text  \\\n",
            "0  trump tell million american hurricane victim r...   \n",
            "1  new york cable provider altice acc network new...   \n",
            "2  japan dentsu get small fine overtime breach de...   \n",
            "3  little kid toxic stress solve priscilla chan c...   \n",
            "4  fantasy football kicker ranking week warn some...   \n",
            "\n",
            "                                        text_cleaned  \n",
            "0  trump tell million american hurrican victim re...  \n",
            "1  new york cabl provid altic acc network new yor...  \n",
            "2  japan dentsu get small fine overtim breach des...  \n",
            "3  littl kid toxic stress solv priscilla chan ceo...  \n",
            "4  fantasi footbal kicker rank week warn someth b...  \n"
          ]
        }
      ]
    },
    {
      "cell_type": "markdown",
      "source": [
        "TF-IDF Vectorization"
      ],
      "metadata": {
        "id": "5-vvyElsILsl"
      }
    },
    {
      "cell_type": "code",
      "source": [
        "# TF-IDF vectorization\n",
        "tfidf = TfidfVectorizer(max_features=5000, ngram_range=(1, 2))\n",
        "X_train = tfidf.fit_transform(train_df['text_cleaned']).toarray()\n",
        "X_test = tfidf.transform(test_df['text_cleaned']).toarray()\n",
        "\n",
        "# Labels\n",
        "y_train = train_df['label']\n",
        "y_test = test_df['label']\n",
        "\n",
        "print(\"TF-IDF Transformation Completed.\")\n",
        "print(\"X_train Shape:\", X_train.shape)\n",
        "print(\"X_test Shape:\", X_test.shape)"
      ],
      "metadata": {
        "colab": {
          "base_uri": "https://localhost:8080/"
        },
        "id": "iw124F1iIO75",
        "outputId": "c491227e-e852-4077-f696-608c041f20d8"
      },
      "execution_count": null,
      "outputs": [
        {
          "output_type": "stream",
          "name": "stdout",
          "text": [
            "TF-IDF Transformation Completed.\n",
            "X_train Shape: (3340, 5000)\n",
            "X_test Shape: (798, 5000)\n"
          ]
        }
      ]
    },
    {
      "cell_type": "markdown",
      "source": [
        "Feature Selection"
      ],
      "metadata": {
        "id": "efGW9TYXIvTL"
      }
    },
    {
      "cell_type": "code",
      "source": [
        "from sklearn.feature_selection import chi2\n",
        "\n",
        "# Compute Chi-Square scores\n",
        "chi2_scores, p_values = chi2(X_train, y_train)\n",
        "\n",
        "# Select top features\n",
        "top_features = np.argsort(chi2_scores)[-20:]\n",
        "feature_names = np.array(tfidf.get_feature_names_out())[top_features]\n",
        "\n",
        "print(\"\\nTop 20 Features Selected by Chi-Square:\")\n",
        "print(feature_names)"
      ],
      "metadata": {
        "colab": {
          "base_uri": "https://localhost:8080/"
        },
        "id": "r6aMgkrCIx75",
        "outputId": "2b004e66-4246-4037-8f37-c0cdaae83aa3"
      },
      "execution_count": null,
      "outputs": [
        {
          "output_type": "stream",
          "name": "stdout",
          "text": [
            "\n",
            "Top 20 Features Selected by Chi-Square:\n",
            "['contentad' 'jet' 'cent' 'light' 'cent news' 'reader' 'think stori'\n",
            " 'add two' 'two cent' 'stori fact' 'reader think' 'fact add' 'content'\n",
            " 'reuter' 'sourc http' 'raven' 'weinstein' 'http' 'mr' 'say']\n"
          ]
        }
      ]
    },
    {
      "cell_type": "markdown",
      "source": [
        "K-Nearest Neighbors (KNN)"
      ],
      "metadata": {
        "id": "KL6IC3oGI1-A"
      }
    },
    {
      "cell_type": "code",
      "source": [
        "# Train and test KNN\n",
        "knn = KNeighborsClassifier(n_neighbors=5)\n",
        "knn.fit(X_train, y_train)\n",
        "y_pred_knn = knn.predict(X_test)\n",
        "\n",
        "# Evaluate KNN\n",
        "print(\"\\nKNN Classification Report:\")\n",
        "print(classification_report(y_test, y_pred_knn))\n",
        "\n",
        "# Cross-validation\n",
        "evaluate_with_cross_validation(knn, X_train, y_train)"
      ],
      "metadata": {
        "colab": {
          "base_uri": "https://localhost:8080/",
          "height": 367
        },
        "id": "Zr1QDU26I5L3",
        "outputId": "194f2b74-c113-426b-a064-3a75ee12f59f"
      },
      "execution_count": null,
      "outputs": [
        {
          "output_type": "stream",
          "name": "stdout",
          "text": [
            "\n",
            "KNN Classification Report:\n",
            "              precision    recall  f1-score   support\n",
            "\n",
            "           0       0.95      0.90      0.92       450\n",
            "           1       0.88      0.94      0.91       348\n",
            "\n",
            "    accuracy                           0.92       798\n",
            "   macro avg       0.91      0.92      0.92       798\n",
            "weighted avg       0.92      0.92      0.92       798\n",
            "\n"
          ]
        },
        {
          "output_type": "error",
          "ename": "NameError",
          "evalue": "name 'evaluate_with_cross_validation' is not defined",
          "traceback": [
            "\u001b[0;31m---------------------------------------------------------------------------\u001b[0m",
            "\u001b[0;31mNameError\u001b[0m                                 Traceback (most recent call last)",
            "\u001b[0;32m<ipython-input-6-bb321bde6fb0>\u001b[0m in \u001b[0;36m<cell line: 11>\u001b[0;34m()\u001b[0m\n\u001b[1;32m      9\u001b[0m \u001b[0;34m\u001b[0m\u001b[0m\n\u001b[1;32m     10\u001b[0m \u001b[0;31m# Cross-validation\u001b[0m\u001b[0;34m\u001b[0m\u001b[0;34m\u001b[0m\u001b[0m\n\u001b[0;32m---> 11\u001b[0;31m \u001b[0mevaluate_with_cross_validation\u001b[0m\u001b[0;34m(\u001b[0m\u001b[0mknn\u001b[0m\u001b[0;34m,\u001b[0m \u001b[0mX_train\u001b[0m\u001b[0;34m,\u001b[0m \u001b[0my_train\u001b[0m\u001b[0;34m)\u001b[0m\u001b[0;34m\u001b[0m\u001b[0;34m\u001b[0m\u001b[0m\n\u001b[0m",
            "\u001b[0;31mNameError\u001b[0m: name 'evaluate_with_cross_validation' is not defined"
          ]
        }
      ]
    },
    {
      "cell_type": "markdown",
      "source": [
        "Defining the evaluate_with_cross_validation Function"
      ],
      "metadata": {
        "id": "JUnAR3r-KL6-"
      }
    },
    {
      "cell_type": "code",
      "source": [
        "from sklearn.model_selection import cross_val_score\n",
        "\n",
        "def evaluate_with_cross_validation(model, X, y, cv=5):\n",
        "    \"\"\"\n",
        "    Evaluate a model using K-Fold Cross-Validation.\n",
        "\n",
        "    Parameters:\n",
        "    model: The machine learning model to evaluate\n",
        "    X: Feature matrix\n",
        "    y: Target vector\n",
        "    cv: Number of folds (default is 5)\n",
        "\n",
        "    Returns:\n",
        "    None: Prints the cross-validation scores and their mean.\n",
        "    \"\"\"\n",
        "    scores = cross_val_score(model, X, y, cv=cv, scoring='accuracy')\n",
        "    print(f\"Cross-Validation Scores: {scores}\")\n",
        "    print(f\"Mean Accuracy: {scores.mean():.4f}\")"
      ],
      "metadata": {
        "id": "mldkoul_KOjc"
      },
      "execution_count": null,
      "outputs": []
    },
    {
      "cell_type": "markdown",
      "source": [
        "Again Implementing K-Nearest Neighbors (KNN)"
      ],
      "metadata": {
        "id": "pQtPjoWEKSZW"
      }
    },
    {
      "cell_type": "code",
      "source": [
        "# Train and test KNN\n",
        "knn = KNeighborsClassifier(n_neighbors=5)\n",
        "knn.fit(X_train, y_train)\n",
        "y_pred_knn = knn.predict(X_test)\n",
        "\n",
        "# Evaluate KNN\n",
        "print(\"\\nKNN Classification Report:\")\n",
        "print(classification_report(y_test, y_pred_knn))\n",
        "\n",
        "# Cross-validation\n",
        "evaluate_with_cross_validation(knn, X_train, y_train)"
      ],
      "metadata": {
        "colab": {
          "base_uri": "https://localhost:8080/"
        },
        "id": "z8mmI767KZTt",
        "outputId": "6d550ac3-1d2c-4bd2-fef9-9ca82dbf9562"
      },
      "execution_count": null,
      "outputs": [
        {
          "output_type": "stream",
          "name": "stdout",
          "text": [
            "\n",
            "KNN Classification Report:\n",
            "              precision    recall  f1-score   support\n",
            "\n",
            "           0       0.95      0.90      0.92       450\n",
            "           1       0.88      0.94      0.91       348\n",
            "\n",
            "    accuracy                           0.92       798\n",
            "   macro avg       0.91      0.92      0.92       798\n",
            "weighted avg       0.92      0.92      0.92       798\n",
            "\n",
            "Cross-Validation Scores: [0.92215569 0.92065868 0.94610778 0.90868263 0.92365269]\n",
            "Mean Accuracy: 0.9243\n"
          ]
        }
      ]
    },
    {
      "cell_type": "markdown",
      "source": [
        "Naive Bayes"
      ],
      "metadata": {
        "id": "z5kSBT1sKg2-"
      }
    },
    {
      "cell_type": "code",
      "source": [
        "# Train and test Naive Bayes\n",
        "nb = MultinomialNB()\n",
        "nb.fit(X_train, y_train)\n",
        "y_pred_nb = nb.predict(X_test)\n",
        "\n",
        "# Evaluate Naive Bayes\n",
        "print(\"\\nNaive Bayes Classification Report:\")\n",
        "print(classification_report(y_test, y_pred_nb))"
      ],
      "metadata": {
        "colab": {
          "base_uri": "https://localhost:8080/"
        },
        "id": "oiCxZGFsKkHr",
        "outputId": "ea5b50ea-851e-430d-8d01-958b2acd6d34"
      },
      "execution_count": null,
      "outputs": [
        {
          "output_type": "stream",
          "name": "stdout",
          "text": [
            "\n",
            "Naive Bayes Classification Report:\n",
            "              precision    recall  f1-score   support\n",
            "\n",
            "           0       0.98      0.85      0.91       450\n",
            "           1       0.83      0.98      0.90       348\n",
            "\n",
            "    accuracy                           0.90       798\n",
            "   macro avg       0.91      0.91      0.90       798\n",
            "weighted avg       0.91      0.90      0.90       798\n",
            "\n"
          ]
        }
      ]
    },
    {
      "cell_type": "markdown",
      "source": [
        "Support Vector Machine (SVM)"
      ],
      "metadata": {
        "id": "Dl5wdRgbKnj3"
      }
    },
    {
      "cell_type": "code",
      "source": [
        "# Train and test SVM\n",
        "svm = SVC(kernel='linear', C=1.0, probability=True)\n",
        "svm.fit(X_train, y_train)\n",
        "y_pred_svm = svm.predict(X_test)\n",
        "\n",
        "# Evaluate SVM\n",
        "print(\"\\nSVM Classification Report:\")\n",
        "print(classification_report(y_test, y_pred_svm))"
      ],
      "metadata": {
        "colab": {
          "base_uri": "https://localhost:8080/"
        },
        "id": "a9Gw2h9zKqpm",
        "outputId": "47cbdb99-a7fa-471c-ad48-cfc9d3c72b31"
      },
      "execution_count": null,
      "outputs": [
        {
          "output_type": "stream",
          "name": "stdout",
          "text": [
            "\n",
            "SVM Classification Report:\n",
            "              precision    recall  f1-score   support\n",
            "\n",
            "           0       0.98      0.98      0.98       450\n",
            "           1       0.98      0.98      0.98       348\n",
            "\n",
            "    accuracy                           0.98       798\n",
            "   macro avg       0.98      0.98      0.98       798\n",
            "weighted avg       0.98      0.98      0.98       798\n",
            "\n"
          ]
        }
      ]
    },
    {
      "cell_type": "markdown",
      "source": [
        "Hyperparameter Tuning"
      ],
      "metadata": {
        "id": "QgOqmJp4K68g"
      }
    },
    {
      "cell_type": "markdown",
      "source": [
        "a. KNN Hyperparameter Tuning"
      ],
      "metadata": {
        "id": "cSe7igDHK-WJ"
      }
    },
    {
      "cell_type": "code",
      "source": [
        "# Hyperparameter tuning for KNN\n",
        "param_grid_knn = {'n_neighbors': range(1, 15)}\n",
        "grid_knn = GridSearchCV(KNeighborsClassifier(), param_grid_knn, cv=5, scoring='accuracy', return_train_score=True)\n",
        "grid_knn.fit(X_train, y_train)\n",
        "\n",
        "# Visualization\n",
        "results_knn = pd.DataFrame(grid_knn.cv_results_)\n",
        "plt.plot(results_knn['param_n_neighbors'], results_knn['mean_test_score'], label='Test Accuracy')\n",
        "plt.plot(results_knn['param_n_neighbors'], results_knn['mean_train_score'], label='Train Accuracy')\n",
        "plt.xlabel(\"Number of Neighbors\")\n",
        "plt.ylabel(\"Accuracy\")\n",
        "plt.title(\"KNN Hyperparameter Tuning\")\n",
        "plt.legend()\n",
        "plt.show()\n",
        "\n",
        "print(\"\\nBest Parameters for KNN:\", grid_knn.best_params_)"
      ],
      "metadata": {
        "colab": {
          "base_uri": "https://localhost:8080/",
          "height": 507
        },
        "id": "1Ki3Hy9MLBHy",
        "outputId": "3d2d93d9-79f7-480e-98bc-f3000e4137f7"
      },
      "execution_count": null,
      "outputs": [
        {
          "output_type": "display_data",
          "data": {
            "text/plain": [
              "<Figure size 640x480 with 1 Axes>"
            ],
            "image/png": "[encoded data removed]"
          },
          "metadata": {}
        },
        {
          "output_type": "stream",
          "name": "stdout",
          "text": [
            "\n",
            "Best Parameters for KNN: {'n_neighbors': 1}\n"
          ]
        }
      ]
    }
  ]
}